{
 "cells": [
  {
   "cell_type": "code",
   "execution_count": null,
   "metadata": {},
   "outputs": [],
   "source": [
    "import tkinter as tk\n",
    "from tkinter import messagebox"
   ]
  },
  {
   "cell_type": "code",
   "execution_count": null,
   "metadata": {},
   "outputs": [],
   "source": [
    "def show_message():\n",
    "    messagebox.showinfo(\"Info\", \"Hello, Tkinter!\")\n",
    "    \n",
    "# Membuat instance utama dari Tkinter\n",
    "root = tk.Tk()\n",
    "root.title(\"Contoh Aplikasi GUI\")\n",
    "\n",
    "# Menentukan ukuran jendela\n",
    "root.geometry(\"300x200\")\n",
    "\n",
    "# Membuat tombol\n",
    "button = tk.Button(root, text=\"Klik Saya\", command=show_message)\n",
    "button.pack(pady=20)\n",
    "\n",
    "# Menjalankan loop utama Tkinter\n",
    "root.mainloop()"
   ]
  }
 ],
 "metadata": {
  "language_info": {
   "name": "python"
  }
 },
 "nbformat": 4,
 "nbformat_minor": 2
}
